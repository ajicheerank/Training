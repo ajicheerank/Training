{
 "cells": [
  {
   "cell_type": "code",
   "execution_count": 1,
   "metadata": {},
   "outputs": [
    {
     "ename": "ModuleNotFoundError",
     "evalue": "No module named 'json2table'",
     "output_type": "error",
     "traceback": [
      "\u001b[1;31m---------------------------------------------------------------------------\u001b[0m",
      "\u001b[1;31mModuleNotFoundError\u001b[0m                       Traceback (most recent call last)",
      "\u001b[1;32m<ipython-input-1-758afd1e2aaf>\u001b[0m in \u001b[0;36m<module>\u001b[1;34m()\u001b[0m\n\u001b[0;32m      1\u001b[0m \u001b[1;32mimport\u001b[0m \u001b[0mboto3\u001b[0m\u001b[1;33m\u001b[0m\u001b[0m\n\u001b[0;32m      2\u001b[0m \u001b[1;32mimport\u001b[0m \u001b[0mrequests\u001b[0m\u001b[1;33m\u001b[0m\u001b[0m\n\u001b[1;32m----> 3\u001b[1;33m \u001b[1;32mfrom\u001b[0m \u001b[0mjson2table\u001b[0m \u001b[1;32mimport\u001b[0m \u001b[0mconvert\u001b[0m\u001b[1;33m\u001b[0m\u001b[0m\n\u001b[0m\u001b[0;32m      4\u001b[0m \u001b[1;33m\u001b[0m\u001b[0m\n\u001b[0;32m      5\u001b[0m \u001b[0msession\u001b[0m \u001b[1;33m=\u001b[0m \u001b[0mboto3\u001b[0m\u001b[1;33m.\u001b[0m\u001b[0mSession\u001b[0m\u001b[1;33m(\u001b[0m\u001b[0mprofile_name\u001b[0m\u001b[1;33m=\u001b[0m\u001b[1;34m'default'\u001b[0m\u001b[1;33m)\u001b[0m\u001b[1;33m\u001b[0m\u001b[0m\n",
      "\u001b[1;31mModuleNotFoundError\u001b[0m: No module named 'json2table'"
     ]
    }
   ],
   "source": [
    "import boto3\n",
    "import requests\n",
    "from json2table import convert\n",
    "\n",
    "session = boto3.Session(profile_name='default')\n",
    "cli = session.client('rekognition')\n",
    "    \n",
    "def open_image(img):    \n",
    "    #img = open(img,'r+')\n",
    "    imgdata = img#.read()\n",
    "        \n",
    "    imgobj = {'Bytes':imgdata}\n",
    "    imgAttr=['ALL']\n",
    "    return imgobj,imgAttr\n",
    "    \n",
    "def detect_face_and_label(image,attribute):    \n",
    "    face = cli.detect_faces(Image=image, Attributes=attribute)\n",
    "    label = cli.detect_labels(Image=image)\n",
    "    #print(face)\n",
    "    #print(label)\n",
    "    to_table(face)\n",
    "    \n",
    "def get_image_from_url():\n",
    "    req = requests.get('http://stash.compciv.org/2017/obama.jpg') \n",
    "    return req.content\n",
    "\n",
    "def to_table(j_inp):\n",
    "    print(convert(j_inp,build_direction = \"LEFT_TO_RIGHT\", table_attributes=None))\n",
    "\n",
    "\n",
    "if __name__ == '__main__':    \n",
    "    img = get_image_from_url()    \n",
    "    img,attr = open_image(img)\n",
    "    #print(img,attr)\n",
    "    detect_face_and_label(img,attr)\n",
    "    "
   ]
  },
  {
   "cell_type": "code",
   "execution_count": null,
   "metadata": {},
   "outputs": [],
   "source": []
  }
 ],
 "metadata": {
  "kernelspec": {
   "display_name": "Python 3",
   "language": "python",
   "name": "python3"
  },
  "language_info": {
   "codemirror_mode": {
    "name": "ipython",
    "version": 3
   },
   "file_extension": ".py",
   "mimetype": "text/x-python",
   "name": "python",
   "nbconvert_exporter": "python",
   "pygments_lexer": "ipython3",
   "version": "3.6.5"
  }
 },
 "nbformat": 4,
 "nbformat_minor": 2
}
